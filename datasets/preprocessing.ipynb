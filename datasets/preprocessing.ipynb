{
 "cells": [
  {
   "cell_type": "markdown",
   "metadata": {},
   "source": [
    "#### Basic preprocessing"
   ]
  },
  {
   "cell_type": "code",
   "execution_count": null,
   "metadata": {},
   "outputs": [],
   "source": [
    "import json\n",
    "from dotenv import dotenv_values\n",
    "\n",
    "configs = dotenv_values(\".env\")\n",
    "\n",
    "TARGET_NAME = configs[\"NAME\"]"
   ]
  },
  {
   "cell_type": "code",
   "execution_count": null,
   "metadata": {},
   "outputs": [],
   "source": [
    "with open('./raw/autists.json', mode=\"r\", encoding=\"utf-8\") as f:\n",
    "    autists = json.load(f)['messages']\n",
    "\n",
    "with open(\"./raw/download.json\", mode=\"r\", encoding=\"utf-8\") as f:\n",
    "    download = json.load(f)['messages']\n",
    "\n",
    "with open(\"./raw/gycha.json\", mode=\"r\", encoding=\"utf-8\") as f:\n",
    "    gycha = json.load(f)['messages']\n",
    "\n",
    "dataset = gycha + download + autists\n",
    "len(dataset)"
   ]
  },
  {
   "cell_type": "code",
   "execution_count": null,
   "metadata": {},
   "outputs": [],
   "source": [
    "def filter(obj):\n",
    "    # delete messages with empty text or forwarded messages\n",
    "    if obj['text'] == \"\" or 'forwarded_from' in obj:\n",
    "        return None\n",
    "\n",
    "    if type(obj['text']) == str:\n",
    "        return obj\n",
    "    else:\n",
    "        for_deleting = []\n",
    "        for j in range(len(obj['text'])):\n",
    "            if type(obj['text'][j]) != str:\n",
    "                # delete all links-only messages\n",
    "                if obj['text'][j]['type'] == 'link':\n",
    "                    for_deleting.append(j)\n",
    "                else:\n",
    "                    # replace all entities with their texts\n",
    "                    obj['text'][j] = obj['text'][j]['text']\n",
    "        for i in reversed(for_deleting):\n",
    "            del obj['text'][i]\n",
    "\n",
    "        if obj['text'] == []:\n",
    "            return None\n",
    "        if type(obj['text']) == list:\n",
    "            obj['text'] = ''.join(obj['text'])\n",
    "        return obj"
   ]
  },
  {
   "cell_type": "code",
   "execution_count": null,
   "metadata": {},
   "outputs": [],
   "source": [
    "dataset = [x for x in list(map(filter, dataset)) if x is not None]\n",
    "len(dataset)"
   ]
  },
  {
   "cell_type": "code",
   "execution_count": null,
   "metadata": {},
   "outputs": [],
   "source": [
    "# dump of basic filtered version\n",
    "with open('result.json', mode=\"w\", encoding='utf8') as f:\n",
    "    json.dump(dataset, f, indent=1, ensure_ascii=False)"
   ]
  },
  {
   "cell_type": "markdown",
   "metadata": {},
   "source": [
    "#### Loading basic preprocessing results"
   ]
  },
  {
   "cell_type": "code",
   "execution_count": null,
   "metadata": {},
   "outputs": [],
   "source": [
    "with open('result.json', mode=\"r\", encoding=\"utf-8\") as f:\n",
    "    dataset = json.load(f)"
   ]
  },
  {
   "cell_type": "markdown",
   "metadata": {},
   "source": [
    "#### Basic EDA"
   ]
  },
  {
   "cell_type": "code",
   "execution_count": null,
   "metadata": {},
   "outputs": [],
   "source": [
    "import matplotlib.pyplot as plt\n",
    "import pandas as pd\n",
    "\n",
    "def count_lengths(dataset, key, tokenize = lambda message, key: message[key].split(' ')):\n",
    "    lengths = {}\n",
    "\n",
    "    for message in dataset:\n",
    "        length = len(tokenize(message,key))\n",
    "        if str(length) in lengths.keys():\n",
    "            lengths[str(length)] += 1\n",
    "        else:\n",
    "            lengths[str(length)] = 1\n",
    "\n",
    "    lengths = (\n",
    "        pd.DataFrame({\"length\": lengths.keys(), \"count\": lengths.values()})\n",
    "        .astype({\"length\": \"int32\"})\n",
    "        .sort_values(by=[\"count\"], ascending=False)\n",
    "    )\n",
    "    return lengths\n",
    "lengths = count_lengths(dataset, 'text')\n",
    "lengths.head(15)"
   ]
  },
  {
   "cell_type": "code",
   "execution_count": null,
   "metadata": {},
   "outputs": [],
   "source": [
    "lengths.head(50)[\"count\"].sum() / lengths[\"count\"].sum()"
   ]
  },
  {
   "cell_type": "code",
   "execution_count": null,
   "metadata": {},
   "outputs": [],
   "source": [
    "def draw_lengths(lengths, top):\n",
    "    top_length = lengths.loc[lengths[\"length\"] <= top]\n",
    "    plt.figure(figsize=(18, 2))\n",
    "\n",
    "\n",
    "    plt.bar(\n",
    "        top_length[\"length\"],\n",
    "        top_length[\"count\"],\n",
    "    )\n",
    "    plt.xticks(top_length[\"length\"], top_length[\"length\"], rotation=\"vertical\")\n",
    "    plt.show()\n",
    "\n",
    "draw_lengths(lengths, 100)"
   ]
  },
  {
   "cell_type": "code",
   "execution_count": null,
   "metadata": {},
   "outputs": [],
   "source": [
    "counter = 0\n",
    "for message in dataset:\n",
    "    if message[\"from\"] == TARGET_NAME:\n",
    "        counter += 1\n",
    "print(\n",
    "    f\"Count of {TARGET_NAME} messages: {counter}/{len(dataset)}={counter/len(dataset)}\"\n",
    ")"
   ]
  },
  {
   "cell_type": "code",
   "execution_count": null,
   "metadata": {},
   "outputs": [],
   "source": [
    "from ydata_profiling import ProfileReport\n",
    "import pandas as pd\n",
    "\n",
    "ProfileReport(\n",
    "    pd.DataFrame(dataset)[[\"from\", \"text\"]],\n",
    ").to_notebook_iframe()"
   ]
  },
  {
   "cell_type": "code",
   "execution_count": null,
   "metadata": {},
   "outputs": [],
   "source": [
    "from wordcloud import WordCloud\n",
    "from tqdm import tqdm\n",
    "\n",
    "text_string = ''\n",
    "\n",
    "for message in tqdm(dataset):\n",
    "    text_string += message[\"text\"]\n",
    "    text_string += ' '\n",
    "\n",
    "print(len(text_string))"
   ]
  },
  {
   "cell_type": "code",
   "execution_count": null,
   "metadata": {},
   "outputs": [],
   "source": [
    "wc = WordCloud(max_font_size=200, max_words=300, background_color=\"white\", width = 1000, height = 800, collocations = False).generate(\n",
    "    text_string\n",
    ")\n",
    "\n",
    "plt.figure()\n",
    "plt.imshow(wc, interpolation=\"bilinear\")\n",
    "plt.axis(\"off\")\n",
    "plt.show()"
   ]
  },
  {
   "cell_type": "markdown",
   "metadata": {},
   "source": [
    "#### Parallel texts corpus (for generation task)"
   ]
  },
  {
   "cell_type": "code",
   "execution_count": null,
   "metadata": {},
   "outputs": [],
   "source": [
    "# split the corpus into parallel texts\n",
    "import copy\n",
    "\n",
    "datset_for_parallel = copy.deepcopy(dataset)\n",
    "# delete messages of target user if they are at the start of the dataset\n",
    "for_deleting = []\n",
    "for i in range(len(datset_for_parallel)):\n",
    "    if datset_for_parallel[i][\"from\"] == TARGET_NAME:\n",
    "        for_deleting.append(i)\n",
    "    else:\n",
    "        break\n",
    "for i in reversed(for_deleting):\n",
    "    del datset_for_parallel[i]\n",
    "\n",
    "pairs = []\n",
    "question = ''\n",
    "answer = ''\n",
    "last_from = ''\n",
    "for i in range(len(datset_for_parallel)):\n",
    "    # if we've just built q&a pair\n",
    "    if question != '' and answer != '' and \\\n",
    "        last_from == TARGET_NAME and datset_for_parallel[i]['from'] != TARGET_NAME:\n",
    "        pair = {'q': question, 'a': answer}\n",
    "        pairs.append(pair)\n",
    "        question = ''\n",
    "        answer = ''\n",
    "\n",
    "    if datset_for_parallel[i][\"from\"] == TARGET_NAME:\n",
    "        answer += ' ' + datset_for_parallel[i]['text']\n",
    "    else:\n",
    "        question += ' ' + datset_for_parallel[i]['text']\n",
    "\n",
    "    last_from = datset_for_parallel[i]['from']\n",
    "# gonna ignore the last pair\n",
    "\n",
    "len(pairs)"
   ]
  },
  {
   "cell_type": "code",
   "execution_count": null,
   "metadata": {},
   "outputs": [],
   "source": [
    "from transformers import T5Tokenizer\n",
    "tokenizer = T5Tokenizer.from_pretrained(\"cointegrated/rut5-base-multitask\")\n",
    "\n",
    "lengths = count_lengths(pairs, \"q\", lambda message, key: tokenizer(message[key])['input_ids'])\n",
    "lengths.head(20)"
   ]
  },
  {
   "cell_type": "code",
   "execution_count": null,
   "metadata": {},
   "outputs": [],
   "source": [
    "lengths.head(64)[\"count\"].sum() / lengths[\"count\"].sum()"
   ]
  },
  {
   "cell_type": "code",
   "execution_count": null,
   "metadata": {},
   "outputs": [],
   "source": [
    "with open(\"parallel.json\", mode=\"w\", encoding=\"utf8\") as f:\n",
    "    json.dump(pairs, f, indent=1, ensure_ascii=False)"
   ]
  },
  {
   "cell_type": "markdown",
   "metadata": {},
   "source": [
    "#### Binary marked corpus (for classification task)"
   ]
  },
  {
   "cell_type": "code",
   "execution_count": null,
   "metadata": {},
   "outputs": [],
   "source": [
    "# take only 3 and more words messages\n",
    "minimum_length = 3\n",
    "\n",
    "long_messages = []\n",
    "for message in dataset:\n",
    "    if len(message[\"text\"].split(\" \")) >= minimum_length:\n",
    "        long_messages.append(message)\n",
    "\n",
    "len(long_messages)"
   ]
  },
  {
   "cell_type": "code",
   "execution_count": null,
   "metadata": {},
   "outputs": [],
   "source": [
    "def mark_author(obj):\n",
    "    return {\"text\": obj[\"text\"], \"label\": int(obj[\"from\"] == TARGET_NAME)}\n",
    "\n",
    "author = list(map(mark_author, long_messages))\n",
    "\n",
    "len(author)"
   ]
  },
  {
   "cell_type": "code",
   "execution_count": null,
   "metadata": {},
   "outputs": [],
   "source": [
    "def check_counts(dataset):\n",
    "    counter = 0\n",
    "    for message in dataset:\n",
    "        counter += message[\"label\"]\n",
    "    print(f\"Count of {TARGET_NAME} messages: {counter}/{len(dataset)}={counter/len(dataset)}\")\n",
    "check_counts(author)"
   ]
  },
  {
   "cell_type": "markdown",
   "metadata": {},
   "source": [
    "The dataset is small and has a classes imbalance 2:1, hence we should apply oversampling"
   ]
  },
  {
   "cell_type": "code",
   "execution_count": null,
   "metadata": {},
   "outputs": [],
   "source": [
    "from imblearn.over_sampling import RandomOverSampler\n",
    "\n",
    "rus = RandomOverSampler(random_state=42)\n",
    "X_res, y_res = rus.fit_resample([[message[\"text\"]] for message in author], [message[\"label\"] for message in author])\n",
    "balanced_author = [{\"text\": X_res[i][0], \"label\": y_res[i]} for i in range(len(X_res))]\n",
    "\n",
    "check_counts(balanced_author)"
   ]
  },
  {
   "cell_type": "code",
   "execution_count": null,
   "metadata": {},
   "outputs": [],
   "source": [
    "author = balanced_author"
   ]
  },
  {
   "cell_type": "code",
   "execution_count": null,
   "metadata": {},
   "outputs": [],
   "source": [
    "from transformers import BertTokenizer\n",
    "tokenizer = BertTokenizer.from_pretrained(\"sergeyzh/rubert-tiny-turbo\")\n",
    "\n",
    "lengths = count_lengths(author, \"text\", lambda message, key: tokenizer(message[key])['input_ids'])\n",
    "lengths.head(20)"
   ]
  },
  {
   "cell_type": "code",
   "execution_count": null,
   "metadata": {},
   "outputs": [],
   "source": [
    "lengths.head(50)[\"count\"].sum() / lengths[\"count\"].sum()"
   ]
  },
  {
   "cell_type": "code",
   "execution_count": null,
   "metadata": {},
   "outputs": [],
   "source": [
    "with open('author.json', mode=\"w\", encoding='utf8') as f:\n",
    "    json.dump(author, f, indent=1, ensure_ascii=False)"
   ]
  }
 ],
 "metadata": {
  "kernelspec": {
   "display_name": "Python 3",
   "language": "python",
   "name": "python3"
  },
  "language_info": {
   "codemirror_mode": {
    "name": "ipython",
    "version": 3
   },
   "file_extension": ".py",
   "mimetype": "text/x-python",
   "name": "python",
   "nbconvert_exporter": "python",
   "pygments_lexer": "ipython3",
   "version": "3.11.2"
  }
 },
 "nbformat": 4,
 "nbformat_minor": 2
}
