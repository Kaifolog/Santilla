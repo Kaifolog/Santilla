{
 "cells": [
  {
   "cell_type": "code",
   "execution_count": null,
   "metadata": {},
   "outputs": [],
   "source": [
    "import torch\n",
    "from transformers import T5ForConditionalGeneration, T5Tokenizer\n",
    "from transformers import Seq2SeqTrainer, Seq2SeqTrainingArguments\n",
    "from transformers import DataCollatorWithPadding\n",
    "from datasets import load_dataset\n",
    "import mlflow\n",
    "from os import environ\n",
    "\n",
    "TRANSFORMERS_CACHE = \"D:\\.cache\\huggingface\""
   ]
  },
  {
   "cell_type": "code",
   "execution_count": null,
   "metadata": {},
   "outputs": [],
   "source": [
    "model_name = \"cointegrated/rut5-base-multitask\"\n",
    "model_max_length = 64  #   72\n",
    "tokenizer = T5Tokenizer.from_pretrained(\n",
    "    model_name, model_max_length=model_max_length, cache_dir=TRANSFORMERS_CACHE\n",
    ")\n",
    "model = T5ForConditionalGeneration.from_pretrained(\n",
    "    model_name, cache_dir=TRANSFORMERS_CACHE\n",
    ")\n",
    "model.generation_config.max_new_tokens = 72"
   ]
  },
  {
   "cell_type": "code",
   "execution_count": null,
   "metadata": {},
   "outputs": [],
   "source": [
    "task = \"answer\"  #   \"reply\" based on fiction and \"answer\" based on online forums\n",
    "\n",
    "def preprocess_function(examples):\n",
    "    inputs = [f\"{task} | \" + item for item in examples[\"q\"]]\n",
    "\n",
    "    model_inputs = tokenizer(\n",
    "        inputs, max_length=model_max_length, padding=True, truncation=True\n",
    "    )\n",
    "    labels = tokenizer(\n",
    "        text_target=examples[\"a\"],\n",
    "        max_length=model_max_length,\n",
    "        padding=True,\n",
    "        truncation=True,\n",
    "    )\n",
    "\n",
    "    model_inputs[\"labels\"] = labels[\"input_ids\"]\n",
    "    return model_inputs\n",
    "\n",
    "dataset = (\n",
    "    load_dataset(\"json\", data_files=\"../datasets/parallel.json\")[\"train\"]\n",
    "    .train_test_split(test_size=0.1)\n",
    ")\n",
    "\n",
    "tokenized_dataset = dataset.map(\n",
    "    preprocess_function, batched=True, remove_columns=[\"q\", \"a\"]\n",
    ")\n",
    "\n",
    "data_collator = DataCollatorWithPadding(tokenizer=tokenizer)"
   ]
  },
  {
   "cell_type": "code",
   "execution_count": null,
   "metadata": {},
   "outputs": [],
   "source": [
    "import evaluate\n",
    "\n",
    "bleu = evaluate.load(\"bleu\")\n",
    "\n",
    "def compute_metrics(eval_preds):\n",
    "    preds, labels = eval_preds\n",
    "    if isinstance(preds, tuple):\n",
    "        preds = preds[0]\n",
    "    decoded_preds = tokenizer.batch_decode(preds, skip_special_tokens=True)\n",
    "    decoded_labels = tokenizer.batch_decode(labels, skip_special_tokens=True)\n",
    "    result = bleu.compute(predictions=decoded_preds, references=decoded_labels)\n",
    "    del result[\"precisions\"]\n",
    "    return result"
   ]
  },
  {
   "cell_type": "code",
   "execution_count": null,
   "metadata": {},
   "outputs": [],
   "source": [
    "environ[\"MLFLOW_EXPERIMENT_NAME\"] = \"rut5-filtered-data\"\n",
    "environ[\"MLFLOW_FLATTEN_PARAMS \"] = \"True\"\n",
    "# environ[\"HF_MLFLOW_LOG_ARTIFACTS\"] = \"True\""
   ]
  },
  {
   "cell_type": "code",
   "execution_count": null,
   "metadata": {},
   "outputs": [],
   "source": [
    "torch.cuda.empty_cache()\n",
    "\n",
    "training_args = Seq2SeqTrainingArguments(\n",
    "    output_dir=\"./results\",\n",
    "    logging_strategy=\"steps\",\n",
    "    logging_steps=250,\n",
    "    evaluation_strategy=\"steps\",\n",
    "    eval_steps=500,\n",
    "    save_strategy=\"steps\",\n",
    "    save_steps=500,\n",
    "    per_device_train_batch_size=8,\n",
    "    per_device_eval_batch_size=32,\n",
    "    predict_with_generate=True,\n",
    "    warmup_ratio=0.1,\n",
    "    learning_rate=5e-4,\n",
    "    num_train_epochs=3,\n",
    "    fp16=False,  # model pretrained on bf16 and incompatible with fp16\n",
    ")\n",
    "\n",
    "trainer = Seq2SeqTrainer(\n",
    "    model=model,\n",
    "    args=training_args,\n",
    "    data_collator=data_collator,\n",
    "    train_dataset=tokenized_dataset[\"train\"],\n",
    "    eval_dataset=tokenized_dataset[\"test\"],\n",
    "    tokenizer=tokenizer,\n",
    "    compute_metrics=compute_metrics,\n",
    ")\n",
    "\n",
    "trainer.train()\n",
    "\n",
    "mlflow.end_run()"
   ]
  },
  {
   "cell_type": "code",
   "execution_count": null,
   "metadata": {},
   "outputs": [],
   "source": [
    "trainer.evaluate()"
   ]
  },
  {
   "cell_type": "code",
   "execution_count": null,
   "metadata": {},
   "outputs": [],
   "source": [
    "def generate(text, **kwargs):\n",
    "    inputs = tokenizer(f\"{task} | {text}\", return_tensors=\"pt\").to('cuda')\n",
    "    with torch.no_grad():\n",
    "        hypotheses = model.generate(**inputs, num_beams=10, **kwargs)\n",
    "    print(len(hypotheses))\n",
    "    return tokenizer.batch_decode(hypotheses, skip_special_tokens=True)\n"
   ]
  },
  {
   "cell_type": "code",
   "execution_count": null,
   "metadata": {},
   "outputs": [],
   "source": [
    "generate(\n",
    "    \"аниме это не круто\",\n",
    "    do_sample=True,\n",
    "    top_p=0.5,\n",
    "    num_return_sequences=3,\n",
    "    repetition_penalty=2.5,\n",
    ")"
   ]
  }
 ],
 "metadata": {
  "kernelspec": {
   "display_name": "Python 3",
   "language": "python",
   "name": "python3"
  },
  "language_info": {
   "codemirror_mode": {
    "name": "ipython",
    "version": 3
   },
   "file_extension": ".py",
   "mimetype": "text/x-python",
   "name": "python",
   "nbconvert_exporter": "python",
   "pygments_lexer": "ipython3",
   "version": "3.11.2"
  }
 },
 "nbformat": 4,
 "nbformat_minor": 2
}
